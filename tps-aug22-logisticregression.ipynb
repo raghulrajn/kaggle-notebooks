{
 "cells": [
  {
   "cell_type": "code",
   "execution_count": 82,
   "metadata": {
    "_cell_guid": "b1076dfc-b9ad-4769-8c92-a6c4dae69d19",
    "_uuid": "8f2839f25d086af736a60e9eeb907d3b93b6e0e5",
    "execution": {
     "iopub.execute_input": "2022-08-12T07:32:46.279330Z",
     "iopub.status.busy": "2022-08-12T07:32:46.278850Z",
     "iopub.status.idle": "2022-08-12T07:32:46.302705Z",
     "shell.execute_reply": "2022-08-12T07:32:46.301892Z",
     "shell.execute_reply.started": "2022-08-12T07:32:46.279295Z"
    }
   },
   "outputs": [],
   "source": [
    "# https://www.kaggle.com/code/michalgnacik/tabularplayground-aug2022-xgboostattempt - Reference for Feature engineering\n",
    "\n",
    "import numpy as np # linear algebra\n",
    "import pandas as pd # data processing, CSV file I/O (e.g. pd.read_csv)\n",
    "import seaborn as sns\n",
    "import matplotlib.pyplot as plt\n",
    "import missingno as msno\n",
    "import os\n",
    "from sklearn.experimental import enable_iterative_imputer\n",
    "from sklearn.impute import IterativeImputer\n",
    "from sklearn import linear_model\n",
    "from sklearn.metrics import accuracy_score\n",
    "\n",
    "from sklearn.model_selection import train_test_split\n",
    "from sklearn.compose import ColumnTransformer\n",
    "from sklearn.pipeline import Pipeline\n",
    "from imblearn.pipeline import Pipeline as Pipeline2\n",
    "from sklearn.impute import SimpleImputer\n",
    "from sklearn.impute import KNNImputer\n",
    "from sklearn.preprocessing import OrdinalEncoder\n",
    "from sklearn.preprocessing import OneHotEncoder, LabelEncoder\n",
    "\n",
    "# data scaling\n",
    "from sklearn.preprocessing import MinMaxScaler\n",
    "from sklearn.preprocessing import StandardScaler\n",
    "\n",
    "# cross validation\n",
    "from sklearn.model_selection import KFold\n",
    "from sklearn.model_selection import LeaveOneOut\n",
    "from sklearn.model_selection import cross_val_score\n",
    "from sklearn.model_selection import cross_validate\n",
    "\n",
    "# dimensionality reduction\n",
    "from sklearn.decomposition import PCA\n",
    "\n",
    "# Classification\n",
    "from sklearn.linear_model import LogisticRegression\n",
    "from sklearn.tree import DecisionTreeClassifier\n",
    "from sklearn.neighbors import KNeighborsClassifier\n",
    "from sklearn.ensemble import RandomForestClassifier\n",
    "from sklearn.naive_bayes import GaussianNB\n",
    "from sklearn.svm import SVC\n",
    "from sklearn.svm import LinearSVC\n",
    "from xgboost import XGBClassifier\n",
    "import xgboost as xgb\n",
    "from sklearn.ensemble import StackingClassifier\n",
    "\n",
    "## Metrics\n",
    "from sklearn.metrics import accuracy_score\n",
    "from sklearn.metrics import f1_score\n",
    "from sklearn.metrics import roc_curve, roc_auc_score\n",
    "\n",
    "# Hyperparameter tuning / search\n",
    "from sklearn.model_selection import RandomizedSearchCV, GridSearchCV\n",
    "from sklearn.model_selection import StratifiedKFold, cross_val_score, GridSearchCV, RandomizedSearchCV\n",
    "from hyperopt import tpe, STATUS_OK, Trials, hp, fmin, STATUS_OK, space_eval\n",
    "\n",
    "# To handle imbalanced ds\n",
    "from sklearn.utils import class_weight\n",
    "\n",
    "# Oversampling \n",
    "from imblearn.over_sampling import SMOTE, SVMSMOTE\n",
    "from imblearn.combine import SMOTETomek\n",
    "\n",
    "# Ploting Other\n",
    "import plotly.express as px\n",
    "import seaborn as sns\n",
    "\n",
    "# Dimensionality reduction\n",
    "from sklearn.decomposition import PCA\n",
    "\n",
    "# Dumping model\n",
    "import pickle\n",
    "for dirname, _, filenames in os.walk('/kaggle/input'):\n",
    "    for filename in filenames:\n",
    "        print(os.path.join(dirname, filename))"
   ]
  },
  {
   "cell_type": "markdown",
   "metadata": {},
   "source": []
  },
  {
   "cell_type": "code",
   "execution_count": 83,
   "metadata": {
    "execution": {
     "iopub.execute_input": "2022-08-12T07:32:53.930196Z",
     "iopub.status.busy": "2022-08-12T07:32:53.929032Z",
     "iopub.status.idle": "2022-08-12T07:32:54.125404Z",
     "shell.execute_reply": "2022-08-12T07:32:54.124235Z",
     "shell.execute_reply.started": "2022-08-12T07:32:53.930156Z"
    }
   },
   "outputs": [],
   "source": [
    "df_train = pd.read_csv('/kaggle/input/tabular-playground-series-aug-2022/train.csv')\n",
    "df_test = pd.read_csv('/kaggle/input/tabular-playground-series-aug-2022/test.csv')"
   ]
  },
  {
   "cell_type": "code",
   "execution_count": 84,
   "metadata": {
    "execution": {
     "iopub.execute_input": "2022-08-12T07:33:39.633185Z",
     "iopub.status.busy": "2022-08-12T07:33:39.632123Z",
     "iopub.status.idle": "2022-08-12T07:33:39.663491Z",
     "shell.execute_reply": "2022-08-12T07:33:39.662288Z",
     "shell.execute_reply.started": "2022-08-12T07:33:39.633138Z"
    }
   },
   "outputs": [],
   "source": [
    "original = df_train.copy(deep = True)\n",
    "df_train.head()"
   ]
  },
  {
   "cell_type": "code",
   "execution_count": 85,
   "metadata": {
    "execution": {
     "iopub.execute_input": "2022-08-12T07:36:14.185088Z",
     "iopub.status.busy": "2022-08-12T07:36:14.184354Z",
     "iopub.status.idle": "2022-08-12T07:36:14.195568Z",
     "shell.execute_reply": "2022-08-12T07:36:14.194406Z",
     "shell.execute_reply.started": "2022-08-12T07:36:14.185048Z"
    }
   },
   "outputs": [],
   "source": [
    "df_train.drop(labels = ['id'], axis = 1, inplace = True)\n",
    "# attributes = ['attribute_0','attribute_1','attribute_2','attribute_3']\n",
    "# productCode = df_train['product_code'].unique()\n",
    "# attribute_0 = df_train['attribute_0'].unique()\n",
    "# attribute_1 = df_train['attribute_1'].unique()\n",
    "# attribute_2 = df_train['attribute_2'].unique()\n",
    "# attribute_3 = df_train['attribute_3'].unique()"
   ]
  },
  {
   "cell_type": "code",
   "execution_count": 8,
   "metadata": {
    "execution": {
     "iopub.execute_input": "2022-08-12T06:03:41.565708Z",
     "iopub.status.busy": "2022-08-12T06:03:41.565315Z",
     "iopub.status.idle": "2022-08-12T06:03:41.600341Z",
     "shell.execute_reply": "2022-08-12T06:03:41.599174Z",
     "shell.execute_reply.started": "2022-08-12T06:03:41.565675Z"
    }
   },
   "outputs": [],
   "source": [
    "# failure = {product:pd.DataFrame() for product in productCode}\n",
    "# for product,_ in (failure.items()):\n",
    "#     failure[product]['failureCount'] =df_train[df_train['product_code']==product].groupby('failure', as_index = False).agg({'failure':'count'})"
   ]
  },
  {
   "cell_type": "code",
   "execution_count": null,
   "metadata": {},
   "outputs": [],
   "source": []
  },
  {
   "cell_type": "code",
   "execution_count": 86,
   "metadata": {
    "execution": {
     "iopub.execute_input": "2022-08-12T07:36:26.837245Z",
     "iopub.status.busy": "2022-08-12T07:36:26.836487Z",
     "iopub.status.idle": "2022-08-12T07:36:26.844959Z",
     "shell.execute_reply": "2022-08-12T07:36:26.844177Z",
     "shell.execute_reply.started": "2022-08-12T07:36:26.837198Z"
    }
   },
   "outputs": [],
   "source": [
    "sel_columns = df_test.columns[2:]\n",
    "sel_columns"
   ]
  },
  {
   "cell_type": "code",
   "execution_count": 87,
   "metadata": {
    "execution": {
     "iopub.execute_input": "2022-08-12T07:36:30.200050Z",
     "iopub.status.busy": "2022-08-12T07:36:30.199623Z",
     "iopub.status.idle": "2022-08-12T07:36:46.734069Z",
     "shell.execute_reply": "2022-08-12T07:36:46.732763Z",
     "shell.execute_reply.started": "2022-08-12T07:36:30.200013Z"
    }
   },
   "outputs": [],
   "source": [
    "sel_columns = df_test.columns[2:]\n",
    "num_bins = 100\n",
    "fig, axs = plt.subplots(sel_columns.shape[0]//3+1, 3, figsize=(15,20))\n",
    "fig.tight_layout()\n",
    "i = 0\n",
    "for k, col in enumerate(sel_columns):\n",
    "    try:\n",
    "        bins_min = np.min([df_train[col].min(), df_test[col].min()])\n",
    "        bins_max = np.max([df_train[col].max(), df_test[col].max()])\n",
    "        bins = np.linspace(bins_min, bins_max, num_bins)\n",
    "    except TypeError:\n",
    "        bins = 5\n",
    "    df_train[col].hist(ax=axs[k//3][i%3], alpha=0.7, bins=bins, color=\"red\", label=\"train\", density=True)\n",
    "    df_test[col].hist(ax=axs[k//3][i%3], alpha=0.7, bins=bins, color=\"blue\", label=\"test\", density=True)\n",
    "    axs[k//3][i%3].legend()\n",
    "    axs[k//3][i%3].set_title(col)\n",
    "    clean_col = df_train[col].dropna()\n",
    "    try:\n",
    "        all_val, bin_ends = np.histogram(clean_col, bins=bins)\n",
    "        failure_val, bin_ends = np.histogram(df_train[col][df_train.failure == 1], bins=bins)\n",
    "        ax = axs[k//3][i%3].twinx()\n",
    "        ax.scatter(\n",
    "            bin_ends[:-1],\n",
    "            failure_val/all_val,\n",
    "            color=\"green\",\n",
    "            s=40, \n",
    "            label=\"prob of failure\")\n",
    "        ax.legend()\n",
    "    except TypeError:\n",
    "        pass\n",
    "    i+=1\n",
    "    "
   ]
  },
  {
   "cell_type": "code",
   "execution_count": 88,
   "metadata": {
    "execution": {
     "iopub.execute_input": "2022-08-12T07:36:53.297520Z",
     "iopub.status.busy": "2022-08-12T07:36:53.296475Z",
     "iopub.status.idle": "2022-08-12T07:36:53.315531Z",
     "shell.execute_reply": "2022-08-12T07:36:53.314564Z",
     "shell.execute_reply.started": "2022-08-12T07:36:53.297475Z"
    }
   },
   "outputs": [],
   "source": [
    "##Find NaN in dataframe\n",
    "cols = df_train.columns\n",
    "print(\"Num of NaNs in each column of dataset\")\n",
    "for col in cols:\n",
    "    print(f'{col} contains {df_train[col].isna().sum().sum()} NaN values')"
   ]
  },
  {
   "cell_type": "code",
   "execution_count": 89,
   "metadata": {
    "execution": {
     "iopub.execute_input": "2022-08-12T07:36:56.958193Z",
     "iopub.status.busy": "2022-08-12T07:36:56.957477Z",
     "iopub.status.idle": "2022-08-12T07:36:56.976151Z",
     "shell.execute_reply": "2022-08-12T07:36:56.975072Z",
     "shell.execute_reply.started": "2022-08-12T07:36:56.958155Z"
    }
   },
   "outputs": [],
   "source": [
    "cols = df_test.columns\n",
    "print(\"Num of NaNs in each column of dataset\")\n",
    "for col in cols:\n",
    "    print(f'{col} contains {df_test[col].isna().sum().sum()} NaN values')"
   ]
  },
  {
   "cell_type": "code",
   "execution_count": 90,
   "metadata": {
    "execution": {
     "iopub.execute_input": "2022-08-12T07:37:17.950438Z",
     "iopub.status.busy": "2022-08-12T07:37:17.949974Z",
     "iopub.status.idle": "2022-08-12T07:37:17.956354Z",
     "shell.execute_reply": "2022-08-12T07:37:17.955076Z",
     "shell.execute_reply.started": "2022-08-12T07:37:17.950403Z"
    }
   },
   "outputs": [],
   "source": [
    "def add_stats(df):\n",
    "    df[\"mean_measurement\"] = df.loc[:, \"measurement_3\": \"measurement_16\"].mean(axis=1)\n",
    "    df[\"median_measurement\"] = df.loc[:, \"measurement_3\": \"measurement_16\"].median(axis=1)\n",
    "    df[\"std_measurement\"] = df.loc[:, \"measurement_3\": \"measurement_16\"].std(axis=1)"
   ]
  },
  {
   "cell_type": "code",
   "execution_count": 91,
   "metadata": {
    "execution": {
     "iopub.execute_input": "2022-08-12T07:37:20.651793Z",
     "iopub.status.busy": "2022-08-12T07:37:20.651054Z",
     "iopub.status.idle": "2022-08-12T07:37:20.744527Z",
     "shell.execute_reply": "2022-08-12T07:37:20.743663Z",
     "shell.execute_reply.started": "2022-08-12T07:37:20.651757Z"
    }
   },
   "outputs": [],
   "source": [
    "add_stats(df_train)\n",
    "add_stats(df_test)"
   ]
  },
  {
   "cell_type": "code",
   "execution_count": 92,
   "metadata": {
    "execution": {
     "iopub.execute_input": "2022-08-12T07:37:43.254848Z",
     "iopub.status.busy": "2022-08-12T07:37:43.253909Z",
     "iopub.status.idle": "2022-08-12T07:37:43.264406Z",
     "shell.execute_reply": "2022-08-12T07:37:43.263386Z",
     "shell.execute_reply.started": "2022-08-12T07:37:43.254800Z"
    }
   },
   "outputs": [],
   "source": [
    "def emphasis_missing(df):\n",
    "    df['m_3_missing'] = df.measurement_3.isna()\n",
    "    df['m_5_missing'] = df.measurement_5.isna()\n",
    "    \n",
    "\n",
    "emphasis_missing(df_train)\n",
    "emphasis_missing(df_test)"
   ]
  },
  {
   "cell_type": "code",
   "execution_count": 94,
   "metadata": {
    "execution": {
     "iopub.execute_input": "2022-08-12T07:38:20.670609Z",
     "iopub.status.busy": "2022-08-12T07:38:20.669911Z",
     "iopub.status.idle": "2022-08-12T07:38:20.675449Z",
     "shell.execute_reply": "2022-08-12T07:38:20.674242Z",
     "shell.execute_reply.started": "2022-08-12T07:38:20.670573Z"
    }
   },
   "outputs": [],
   "source": [
    "# products = {product:pd.DataFrame() for product in productCode}\n",
    "# for product,_ in (products.items()):\n",
    "#     products[product] = df_train[df_train['product_code']==product].reset_index(drop=True)"
   ]
  },
  {
   "cell_type": "code",
   "execution_count": 93,
   "metadata": {
    "execution": {
     "iopub.execute_input": "2022-08-12T07:38:07.256506Z",
     "iopub.status.busy": "2022-08-12T07:38:07.256086Z",
     "iopub.status.idle": "2022-08-12T07:38:09.423734Z",
     "shell.execute_reply": "2022-08-12T07:38:09.422483Z",
     "shell.execute_reply.started": "2022-08-12T07:38:07.256473Z"
    }
   },
   "outputs": [],
   "source": [
    "nullColumns = df_train.columns[df_train.isna().any()].tolist()\n",
    "i=0\n",
    "\n",
    "fig, axs = plt.subplots(len(nullColumns)//3+1, 3, figsize=(15,20))\n",
    "fig.tight_layout()\n",
    "plt.suptitle('Missing Data by product group')\n",
    "for k,col in enumerate(nullColumns):\n",
    "    Y = df_train[df_train[col].isna()].groupby('failure', as_index = False).agg({'failure':'count'}).squeeze()\n",
    "    sns.barplot(ax =axs[k//3][i%3], x = [0,1],y = Y, color = 'b')\n",
    "    axs[k//3][i%3].set_title(f\" Failure rate if {col} is missing\")\n",
    "    i = i+1"
   ]
  },
  {
   "cell_type": "code",
   "execution_count": 95,
   "metadata": {
    "execution": {
     "iopub.execute_input": "2022-08-12T07:38:34.489361Z",
     "iopub.status.busy": "2022-08-12T07:38:34.488946Z",
     "iopub.status.idle": "2022-08-12T07:38:35.479911Z",
     "shell.execute_reply": "2022-08-12T07:38:35.478727Z",
     "shell.execute_reply.started": "2022-08-12T07:38:34.489326Z"
    }
   },
   "outputs": [],
   "source": [
    "msno.matrix(df_train)"
   ]
  },
  {
   "cell_type": "code",
   "execution_count": 110,
   "metadata": {
    "execution": {
     "iopub.execute_input": "2022-08-12T07:47:42.697925Z",
     "iopub.status.busy": "2022-08-12T07:47:42.697511Z",
     "iopub.status.idle": "2022-08-12T07:47:42.709022Z",
     "shell.execute_reply": "2022-08-12T07:47:42.707603Z",
     "shell.execute_reply.started": "2022-08-12T07:47:42.697892Z"
    }
   },
   "outputs": [],
   "source": [
    "def drawCorrelationMatrix(df):\n",
    "    \n",
    "    cmap = sns.diverging_palette(250, 15, s=75, l=40,\n",
    "                                 n=9, center=\"light\", as_cmap=True)\n",
    "    matrix = df.corr()\n",
    "    mask = np.triu(np.ones_like(matrix, dtype=bool))\n",
    "    plt.figure(figsize=(16,12))\n",
    "    plt.title(\"Correlation heatmap between all parameters\")\n",
    "    fig = sns.heatmap(matrix, mask=mask, center=0, annot=True,\n",
    "                 fmt='.2f', square=True, cmap=cmap)    \n",
    "    \n",
    "def getRedundantPairs(df):\n",
    "    '''Get diagonal and lower triangular pairs of correlation matrix'''\n",
    "    pairs_to_drop = set()\n",
    "    cols = df.columns\n",
    "    for i in range(0, df.shape[1]):\n",
    "        for j in range(0, i+1):\n",
    "            pairs_to_drop.add((cols[i], cols[j]))\n",
    "    return pairs_to_drop\n",
    "\n",
    "def getTopAbsCorrelations(df, n=5,method = 'pearson'):\n",
    "#   ''' Get top 5 most correlated features in the given dataset. Method can be 'pearson', 'spearman', 'kendall' ''''\n",
    "    au_corr = df.corr(method = method).abs().unstack()\n",
    "    labels_to_drop = getRedundantPairs(df)\n",
    "    au_corr = au_corr.sort_values(ascending=False)\n",
    "#     for pairs in labels_to_drop:\n",
    "#         au_corr = au_corr.drop([pairs[0],pairs[1]])\n",
    "#     au_corr = au_corr.sort_values(ascending=False)\n",
    "    \n",
    "    high_corr_pairs = au_corr[(au_corr < 1.0) & (au_corr  >= 0.3)] \n",
    "    print(high_corr_pairs)\n",
    "    features_to_merge = high_corr_pairs.index.get_level_values(0).unique().tolist()\n",
    "    print(\"Top {} Correlated features in given dataset\".format(n))\n",
    "    return features_to_merge"
   ]
  },
  {
   "cell_type": "code",
   "execution_count": 107,
   "metadata": {
    "execution": {
     "iopub.execute_input": "2022-08-12T07:46:07.849842Z",
     "iopub.status.busy": "2022-08-12T07:46:07.848610Z",
     "iopub.status.idle": "2022-08-12T07:46:09.837247Z",
     "shell.execute_reply": "2022-08-12T07:46:09.836174Z",
     "shell.execute_reply.started": "2022-08-12T07:46:07.849791Z"
    }
   },
   "outputs": [],
   "source": [
    "drawCorrelationMatrix(df_train)"
   ]
  },
  {
   "cell_type": "code",
   "execution_count": 111,
   "metadata": {
    "execution": {
     "iopub.execute_input": "2022-08-12T07:47:47.429410Z",
     "iopub.status.busy": "2022-08-12T07:47:47.428692Z",
     "iopub.status.idle": "2022-08-12T07:47:47.468845Z",
     "shell.execute_reply": "2022-08-12T07:47:47.467609Z",
     "shell.execute_reply.started": "2022-08-12T07:47:47.429368Z"
    }
   },
   "outputs": [],
   "source": [
    "features_to_merge = getTopAbsCorrelations(df_train.loc[:,\"measurement_0\":\"measurement_17\" ])"
   ]
  },
  {
   "cell_type": "code",
   "execution_count": 112,
   "metadata": {
    "execution": {
     "iopub.execute_input": "2022-08-12T07:47:50.180812Z",
     "iopub.status.busy": "2022-08-12T07:47:50.179681Z",
     "iopub.status.idle": "2022-08-12T07:47:50.187235Z",
     "shell.execute_reply": "2022-08-12T07:47:50.185880Z",
     "shell.execute_reply.started": "2022-08-12T07:47:50.180773Z"
    }
   },
   "outputs": [],
   "source": [
    "features_to_merge"
   ]
  },
  {
   "cell_type": "code",
   "execution_count": 113,
   "metadata": {
    "execution": {
     "iopub.execute_input": "2022-08-12T07:47:52.529419Z",
     "iopub.status.busy": "2022-08-12T07:47:52.527846Z",
     "iopub.status.idle": "2022-08-12T07:48:01.199351Z",
     "shell.execute_reply": "2022-08-12T07:48:01.197812Z",
     "shell.execute_reply.started": "2022-08-12T07:47:52.529368Z"
    }
   },
   "outputs": [],
   "source": [
    "numerical_transformer = KNNImputer(n_neighbors=5)# SimpleImputer(strategy='mean') # in numerical we replace nans with median\n",
    "scaler = StandardScaler(with_std=False)\n",
    "pca = PCA(n_components=1, svd_solver='full', random_state=0)\n",
    "pipeline = Pipeline([\n",
    "    ('preprocess', numerical_transformer),\n",
    "    ('scaler', scaler),\n",
    "    ('pca', pca)])\n",
    "\n",
    "\n",
    "pipeline.fit(df_train[features_to_merge])\n"
   ]
  },
  {
   "cell_type": "code",
   "execution_count": 114,
   "metadata": {
    "execution": {
     "iopub.execute_input": "2022-08-12T07:48:06.250618Z",
     "iopub.status.busy": "2022-08-12T07:48:06.250214Z",
     "iopub.status.idle": "2022-08-12T07:48:21.462747Z",
     "shell.execute_reply": "2022-08-12T07:48:21.460901Z",
     "shell.execute_reply.started": "2022-08-12T07:48:06.250583Z"
    }
   },
   "outputs": [],
   "source": [
    "measure_merge_train = pipeline.transform(df_train[features_to_merge])\n",
    "measure_merge_test = pipeline.transform(df_test[features_to_merge])"
   ]
  },
  {
   "cell_type": "code",
   "execution_count": 115,
   "metadata": {
    "execution": {
     "iopub.execute_input": "2022-08-12T07:48:23.931195Z",
     "iopub.status.busy": "2022-08-12T07:48:23.930798Z",
     "iopub.status.idle": "2022-08-12T07:48:23.937579Z",
     "shell.execute_reply": "2022-08-12T07:48:23.936447Z",
     "shell.execute_reply.started": "2022-08-12T07:48:23.931163Z"
    }
   },
   "outputs": [],
   "source": [
    "df_train[\"measurement_merged\"] = measure_merge_train\n",
    "df_test[\"measurement_merged\"] = measure_merge_test"
   ]
  },
  {
   "cell_type": "code",
   "execution_count": 116,
   "metadata": {
    "execution": {
     "iopub.execute_input": "2022-08-12T07:48:55.272381Z",
     "iopub.status.busy": "2022-08-12T07:48:55.271502Z",
     "iopub.status.idle": "2022-08-12T07:48:55.279772Z",
     "shell.execute_reply": "2022-08-12T07:48:55.278508Z",
     "shell.execute_reply.started": "2022-08-12T07:48:55.272331Z"
    }
   },
   "outputs": [],
   "source": [
    "df_train[\"failure\"] = df_train.pop('failure')"
   ]
  },
  {
   "cell_type": "code",
   "execution_count": 119,
   "metadata": {
    "execution": {
     "iopub.execute_input": "2022-08-12T07:51:22.296929Z",
     "iopub.status.busy": "2022-08-12T07:51:22.295921Z",
     "iopub.status.idle": "2022-08-12T07:51:22.379615Z",
     "shell.execute_reply": "2022-08-12T07:51:22.378472Z",
     "shell.execute_reply.started": "2022-08-12T07:51:22.296886Z"
    }
   },
   "outputs": [],
   "source": [
    "correlation_val = np.abs(df_train.corr()[\"failure\"]).sort_values()\n",
    "drop_columns = list(correlation_val[correlation_val <=0.007].index)\n",
    "\n",
    "df_train.drop(columns=drop_columns, inplace=True)\n",
    "df_test.drop(columns=drop_columns, inplace=True)"
   ]
  },
  {
   "cell_type": "code",
   "execution_count": 120,
   "metadata": {
    "execution": {
     "iopub.execute_input": "2022-08-12T07:52:41.683116Z",
     "iopub.status.busy": "2022-08-12T07:52:41.682113Z",
     "iopub.status.idle": "2022-08-12T07:52:41.691346Z",
     "shell.execute_reply": "2022-08-12T07:52:41.690143Z",
     "shell.execute_reply.started": "2022-08-12T07:52:41.683068Z"
    }
   },
   "outputs": [],
   "source": [
    "X = df_train.loc[:, df_train.columns != 'failure']\n",
    "y = df_train.failure"
   ]
  },
  {
   "cell_type": "code",
   "execution_count": 121,
   "metadata": {
    "execution": {
     "iopub.execute_input": "2022-08-12T07:52:55.580760Z",
     "iopub.status.busy": "2022-08-12T07:52:55.579789Z",
     "iopub.status.idle": "2022-08-12T07:52:55.597838Z",
     "shell.execute_reply": "2022-08-12T07:52:55.596535Z",
     "shell.execute_reply.started": "2022-08-12T07:52:55.580716Z"
    }
   },
   "outputs": [],
   "source": [
    "seed = 1\n",
    "X_train, X_val, y_train, y_val = train_test_split(X, y, test_size=0.2, random_state=seed)"
   ]
  },
  {
   "cell_type": "code",
   "execution_count": 122,
   "metadata": {
    "execution": {
     "iopub.execute_input": "2022-08-12T07:53:06.804704Z",
     "iopub.status.busy": "2022-08-12T07:53:06.804307Z",
     "iopub.status.idle": "2022-08-12T07:53:06.816949Z",
     "shell.execute_reply": "2022-08-12T07:53:06.815913Z",
     "shell.execute_reply.started": "2022-08-12T07:53:06.804672Z"
    }
   },
   "outputs": [],
   "source": [
    "num_columns =  X.select_dtypes(include=[\"number\"]).columns # selecting numerical columns\n",
    "non_num_columns = X.select_dtypes(exclude=[\"number\"]).columns"
   ]
  },
  {
   "cell_type": "code",
   "execution_count": 123,
   "metadata": {
    "execution": {
     "iopub.execute_input": "2022-08-12T07:53:25.151891Z",
     "iopub.status.busy": "2022-08-12T07:53:25.151482Z",
     "iopub.status.idle": "2022-08-12T07:53:25.158945Z",
     "shell.execute_reply": "2022-08-12T07:53:25.158087Z",
     "shell.execute_reply.started": "2022-08-12T07:53:25.151858Z"
    }
   },
   "outputs": [],
   "source": [
    "numerical_transformer = KNNImputer(n_neighbors=5)# SimpleImputer(strategy='mean') # in numerical we replace nans with median\n",
    "\n",
    "categorical_transformer = Pipeline(\n",
    "    steps=[\n",
    "        (\"encoder\", OrdinalEncoder(handle_unknown='use_encoded_value', unknown_value=-1)), \n",
    "        (\"imputer\", SimpleImputer(strategy=\"most_frequent\"))]) # with numerical we replace the nan with mode\n",
    "\n",
    "preprocessor = ColumnTransformer(\n",
    "    transformers=[\n",
    "        ('num', numerical_transformer, num_columns),\n",
    "        ('cat', categorical_transformer, non_num_columns)\n",
    "    ])"
   ]
  },
  {
   "cell_type": "code",
   "execution_count": 124,
   "metadata": {
    "execution": {
     "iopub.execute_input": "2022-08-12T07:53:37.427280Z",
     "iopub.status.busy": "2022-08-12T07:53:37.426600Z",
     "iopub.status.idle": "2022-08-12T07:53:37.435561Z",
     "shell.execute_reply": "2022-08-12T07:53:37.434663Z",
     "shell.execute_reply.started": "2022-08-12T07:53:37.427243Z"
    }
   },
   "outputs": [],
   "source": [
    "classes_weights = class_weight.compute_sample_weight(\n",
    "    class_weight='balanced',\n",
    "    y=y_train\n",
    ")"
   ]
  },
  {
   "cell_type": "code",
   "execution_count": 126,
   "metadata": {
    "execution": {
     "iopub.execute_input": "2022-08-12T07:56:21.782191Z",
     "iopub.status.busy": "2022-08-12T07:56:21.781419Z",
     "iopub.status.idle": "2022-08-12T07:56:48.065547Z",
     "shell.execute_reply": "2022-08-12T07:56:48.063453Z",
     "shell.execute_reply.started": "2022-08-12T07:56:21.782151Z"
    }
   },
   "outputs": [],
   "source": [
    "random_state = 42\n",
    "clf = LogisticRegression(random_state=random_state) \n",
    "scaler = StandardScaler()\n",
    "sampler = SMOTE(random_state=0)\n",
    "pipeline = Pipeline2([\n",
    "    ('preprocess', preprocessor),\n",
    "    ('sampler', sampler),\n",
    "    ('scaler', scaler),\n",
    "    ('clf', clf)\n",
    "]) # Making a pipeline\n",
    "pipeline.fit(X_train, y_train) # Fitting the model\n",
    "\n",
    "##Train Scores\n",
    "y_pred = pipeline.predict(X_train) \n",
    "probs_train = pipeline.predict_proba(X_train)[:, 1]\n",
    "auc_train = roc_auc_score(y_train, probs_train)\n",
    "f1score_train = f1_score(y_train, y_pred)\n",
    "print(f\"AUC score train: {auc_train}, f1 score train: {f1score_train}\")\n",
    "## Validation Scores\n",
    "y_pred = pipeline.predict(X_val) # Obtaining predictions on validation part that the model has never seen\n",
    "probs_train = pipeline.predict_proba(X_val)[:, 1]\n",
    "auc_val = roc_auc_score(y_val, probs_train)\n",
    "f1score_val = f1_score(y_val, y_pred)\n",
    "print(f\"AUC score test: {auc_val}, f1 score test: {f1score_val}\")"
   ]
  },
  {
   "cell_type": "code",
   "execution_count": 127,
   "metadata": {
    "execution": {
     "iopub.execute_input": "2022-08-12T07:57:01.937166Z",
     "iopub.status.busy": "2022-08-12T07:57:01.936022Z",
     "iopub.status.idle": "2022-08-12T07:57:01.950157Z",
     "shell.execute_reply": "2022-08-12T07:57:01.949199Z",
     "shell.execute_reply.started": "2022-08-12T07:57:01.937121Z"
    }
   },
   "outputs": [],
   "source": [
    "filename = '/kaggle/working/finalized_model.sav'\n",
    "pickle.dump(pipeline, open(filename, 'wb'))\n",
    "\n",
    "loaded_model = pickle.load(open(filename, 'rb'))"
   ]
  },
  {
   "cell_type": "code",
   "execution_count": 130,
   "metadata": {
    "execution": {
     "iopub.execute_input": "2022-08-12T07:58:03.348046Z",
     "iopub.status.busy": "2022-08-12T07:58:03.347269Z",
     "iopub.status.idle": "2022-08-12T07:58:10.350180Z",
     "shell.execute_reply": "2022-08-12T07:58:10.348591Z",
     "shell.execute_reply.started": "2022-08-12T07:58:03.348007Z"
    }
   },
   "outputs": [],
   "source": [
    "y_pred_proba = loaded_model.predict_proba(df_test)[:, 1]"
   ]
  },
  {
   "cell_type": "code",
   "execution_count": 131,
   "metadata": {
    "execution": {
     "iopub.execute_input": "2022-08-12T07:59:27.445684Z",
     "iopub.status.busy": "2022-08-12T07:59:27.445011Z",
     "iopub.status.idle": "2022-08-12T07:59:27.470055Z",
     "shell.execute_reply": "2022-08-12T07:59:27.469052Z",
     "shell.execute_reply.started": "2022-08-12T07:59:27.445647Z"
    }
   },
   "outputs": [],
   "source": [
    "df_sample_sub = pd.read_csv(\"/kaggle/input/tabular-playground-series-aug-2022/sample_submission.csv\")\n",
    "df_submission = pd.DataFrame()\n",
    "df_submission[\"id\"] = df_sample_sub.id\n",
    "df_submission[\"failure\"] = y_pred_proba "
   ]
  },
  {
   "cell_type": "code",
   "execution_count": 132,
   "metadata": {
    "execution": {
     "iopub.execute_input": "2022-08-12T07:59:31.062115Z",
     "iopub.status.busy": "2022-08-12T07:59:31.061670Z",
     "iopub.status.idle": "2022-08-12T07:59:31.119542Z",
     "shell.execute_reply": "2022-08-12T07:59:31.118437Z",
     "shell.execute_reply.started": "2022-08-12T07:59:31.062076Z"
    }
   },
   "outputs": [],
   "source": [
    "df_submission.to_csv(\"submission.csv\", index=False)"
   ]
  }
 ],
 "metadata": {
  "kernelspec": {
   "display_name": "Python 3 (ipykernel)",
   "language": "python",
   "name": "python3"
  },
  "language_info": {
   "codemirror_mode": {
    "name": "ipython",
    "version": 3
   },
   "file_extension": ".py",
   "mimetype": "text/x-python",
   "name": "python",
   "nbconvert_exporter": "python",
   "pygments_lexer": "ipython3",
   "version": "3.8.10"
  }
 },
 "nbformat": 4,
 "nbformat_minor": 4
}
